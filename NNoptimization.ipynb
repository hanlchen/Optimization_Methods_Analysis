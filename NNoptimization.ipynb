{
 "cells": [
  {
   "cell_type": "code",
   "execution_count": 159,
   "metadata": {},
   "outputs": [],
   "source": [
    "import pandas as pd \n",
    "import mlrose_hiive as rose\n",
    "import numpy as np \n",
    "from mlrose_hiive import QueensGenerator, MaxKColorGenerator, TSPGenerator\n",
    "from mlrose_hiive import SARunner, GARunner, NNGSRunner, RHCRunner,MIMICRunner\n",
    "##from mlrose_hiive.runners._runner_base import _RunnerBase\n",
    "import pandas as pd \n",
    "import matplotlib.pyplot as plt\n",
    "from sklearn.model_selection import GridSearchCV,train_test_split,validation_curve,learning_curve\n",
    "from sklearn.tree import DecisionTreeClassifier\n",
    "from sklearn.neighbors import KNeighborsClassifier\n",
    "from sklearn.svm import SVC\n",
    "import category_encoders\n",
    "from sklearn.ensemble import AdaBoostClassifier\n",
    "from sklearn.metrics import accuracy_score, confusion_matrix,f1_score\n",
    "from sklearn.model_selection import cross_val_score\n",
    "#from keras.models import Sequential\n",
    "from sklearn.neural_network import MLPClassifier\n",
    "from sklearn.preprocessing import MinMaxScaler\n",
    "import numpy as np \n",
    "import time \n",
    "import warnings\n",
    "warnings.filterwarnings(\"ignore\")\n"
   ]
  },
  {
   "cell_type": "code",
   "execution_count": 160,
   "metadata": {},
   "outputs": [],
   "source": [
    "pd.set_option('display.max_rows', None)\n",
    "data=pd.read_csv('heart.csv')\n",
    "x=data.drop(['output'],axis=1)\n",
    "y=data['output']\n",
    "scale=MinMaxScaler().fit(x)\n",
    "newx=scale.transform(x)\n",
    "traintime=[]\n",
    "predicttime=[]\n",
    "x_train,x_test,y_train,y_test=train_test_split(newx,y,test_size=0.2,random_state=1)\n",
    "\n",
    "grad_simulated= rose.NeuralNetwork(hidden_nodes = [20], activation ='tanh', \n",
    "                                 algorithm ='simulated_annealing', \n",
    "                                 max_iters = 5000, bias = True, is_classifier = True, \n",
    "                                 learning_rate = 0.1, early_stopping = True, \n",
    "                                 clip_max = 5, max_attempts = 100, random_state = 123,curve=True)\n"
   ]
  },
  {
   "cell_type": "code",
   "execution_count": 161,
   "metadata": {},
   "outputs": [
    {
     "name": "stdout",
     "output_type": "stream",
     "text": [
      "simulated_pred_rate0.7213114754098361\n",
      "[[9.69974044e-01 3.00000000e+00]\n",
      " [9.75138626e-01 5.00000000e+00]\n",
      " [9.73686666e-01 7.00000000e+00]\n",
      " ...\n",
      " [3.17271564e-01 9.23400000e+03]\n",
      " [3.17941933e-01 9.23600000e+03]\n",
      " [3.17961869e-01 9.23800000e+03]]\n"
     ]
    }
   ],
   "source": [
    "time1=time.time()\n",
    "grad_simulated.fit(x_train,y_train)\n",
    "time2=time.time()\n",
    "traintime.append(time2-time1)\n",
    "simulated_y_pred=grad_simulated.predict(x_test)\n",
    "time3=time.time()\n",
    "predicttime.append(time3-time2)\n",
    "simulated_pred_rate=accuracy_score(y_test,simulated_y_pred)\n",
    "simulated_f1=f1_score(y_test,simulated_y_pred)\n",
    "simulated_ft= grad_simulated.fitness_curve\n",
    "\n",
    "\n",
    "print (\"simulated_pred_rate\" + str(simulated_pred_rate))\n",
    "print(simulated_ft)"
   ]
  },
  {
   "cell_type": "code",
   "execution_count": 162,
   "metadata": {},
   "outputs": [
    {
     "name": "stdout",
     "output_type": "stream",
     "text": [
      "rhc_pred_rate0.7540983606557377\n",
      "[[9.69974044e-01 2.00000000e+00]\n",
      " [9.69974044e-01 3.00000000e+00]\n",
      " [9.68549291e-01 5.00000000e+00]\n",
      " ...\n",
      " [2.09464313e-01 7.00600000e+03]\n",
      " [2.09464313e-01 7.00700000e+03]\n",
      " [2.09464313e-01 7.00800000e+03]]\n"
     ]
    }
   ],
   "source": [
    "grad_rhc= rose.NeuralNetwork(hidden_nodes = [20], activation ='tanh', \n",
    "                                 algorithm ='random_hill_climb', \n",
    "                                 max_iters = 5000, bias = True, is_classifier = True, \n",
    "                                 learning_rate = 0.1, early_stopping = True, \n",
    "                                 clip_max = 5, max_attempts = 100, random_state = 123,curve=True)\n",
    "time1=time.time()\n",
    "grad_rhc.fit(x_train,y_train)\n",
    "time2=time.time()\n",
    "traintime.append(time2-time1)\n",
    "rhc_y_pred=grad_rhc.predict(x_test)\n",
    "time3=time.time()\n",
    "predicttime.append(time3-time2)\n",
    "rhc_pred_rate=accuracy_score(y_test,rhc_y_pred)\n",
    "rhc_f1=f1_score(y_test,rhc_y_pred)\n",
    "rhc_ft= grad_rhc.fitness_curve\n",
    "print (\"rhc_pred_rate\" + str(rhc_pred_rate))\n",
    "print(rhc_ft)\n"
   ]
  },
  {
   "cell_type": "code",
   "execution_count": 163,
   "metadata": {},
   "outputs": [],
   "source": [
    "grad_ga= rose.NeuralNetwork(hidden_nodes = [20], activation ='tanh', \n",
    "                                 algorithm ='genetic_alg', \n",
    "                                 max_iters = 5000, bias = True, is_classifier = True, \n",
    "                                 learning_rate = 0.1, early_stopping = True, \n",
    "                                 clip_max = 5, max_attempts = 100, random_state = 123,curve=True,pop_size=500)\n",
    "time1=time.time()\n",
    "\n",
    "grad_ga.fit(x_train,y_train)\n",
    "time2=time.time()\n",
    "\n",
    "ga_y_pred=grad_ga.predict(x_test)\n",
    "time3=time.time()\n",
    "traintime.append(time2-time1)\n",
    "predicttime.append(time3-time2)\n",
    "ga_pred_rate=accuracy_score(y_test,ga_y_pred)\n",
    "ga_f1=f1_score(y_test,ga_y_pred)\n",
    "ga_ft= grad_ga.fitness_curve"
   ]
  },
  {
   "cell_type": "code",
   "execution_count": 164,
   "metadata": {},
   "outputs": [],
   "source": [
    "grad_gd= rose.NeuralNetwork(hidden_nodes = [20], activation ='tanh', \n",
    "                                 algorithm ='gradient_descent', \n",
    "                                 max_iters = 5000, bias = True, is_classifier = True, \n",
    "                                 learning_rate = 0.0001, early_stopping = True, \n",
    "                                 clip_max = 5, max_attempts = 100, random_state = 123,curve=True)\n",
    "time1=time.time()\n",
    "grad_gd.fit(x_train,y_train)\n",
    "time2=time.time()\n",
    "gd_y_pred=grad_gd.predict(x_test)\n",
    "time3=time.time()\n",
    "traintime.append(time2-time1)\n",
    "predicttime.append(time3-time2)\n",
    "\n",
    "gd_pred_rate=accuracy_score(y_test,gd_y_pred)\n",
    "gd_f1=f1_score(y_test,gd_y_pred)\n",
    "gd_ft= grad_gd.fitness_curve"
   ]
  },
  {
   "cell_type": "code",
   "execution_count": 165,
   "metadata": {},
   "outputs": [
    {
     "data": {
      "image/png": "[encoded data removed]",
      "text/plain": [
       "<Figure size 432x288 with 1 Axes>"
      ]
     },
     "metadata": {
      "needs_background": "light"
     },
     "output_type": "display_data"
    },
    {
     "data": {
      "image/png": "[encoded data removed]",
      "text/plain": [
       "<Figure size 432x288 with 1 Axes>"
      ]
     },
     "metadata": {
      "needs_background": "light"
     },
     "output_type": "display_data"
    }
   ],
   "source": [
    "plt.plot(range(len(ga_ft)), ga_ft[:,0], label='ga')\n",
    "plt.plot(range(len(rhc_ft)), rhc_ft[:,0], label='rhc')\n",
    "plt.plot(range(len(simulated_ft)), simulated_ft[:,0], label='simulated')\n",
    "plt.title(\"Loss Function vs. Iterations\")\n",
    "plt.xlabel('Iteration')\n",
    "plt.ylabel('Loss')\n",
    "plt.legend()\n",
    "\n",
    "plt.show()\n",
    "barvalue=[rhc_f1,simulated_f1,ga_f1,gd_f1]\n",
    "plt.bar( np.arange(len(barvalue)),barvalue)\n",
    "plt.title(\"Performance of Each Algorithm\")\n",
    "plt.ylabel('F1 Score')\n",
    "plt.xticks(np.arange(len(barvalue)),['rhc','SA','GA','GD'])\n",
    "plt.show()"
   ]
  },
  {
   "cell_type": "code",
   "execution_count": 166,
   "metadata": {},
   "outputs": [
    {
     "data": {
      "text/plain": [
       "Text(0, 0.5, 'Loss')"
      ]
     },
     "execution_count": 166,
     "metadata": {},
     "output_type": "execute_result"
    },
    {
     "data": {
      "image/png": "[encoded data removed]",
      "text/plain": [
       "<Figure size 432x288 with 1 Axes>"
      ]
     },
     "metadata": {
      "needs_background": "light"
     },
     "output_type": "display_data"
    }
   ],
   "source": [
    "plt.plot(gd_ft)\n",
    "plt.title(\"Loss Function vs. Iteration for GD\" )\n",
    "plt.xlabel('Iteration')\n",
    "plt.ylabel('Loss')\n"
   ]
  },
  {
   "cell_type": "code",
   "execution_count": 167,
   "metadata": {},
   "outputs": [
    {
     "data": {
      "image/png": "[encoded data removed]",
      "text/plain": [
       "<Figure size 432x288 with 1 Axes>"
      ]
     },
     "metadata": {
      "needs_background": "light"
     },
     "output_type": "display_data"
    }
   ],
   "source": [
    "plt.bar( np.arange(len(traintime)),traintime)\n",
    "plt.title(\"Fit Time Performance of Each Algorithm-ANN\")\n",
    "plt.ylabel('Wall Time')\n",
    "plt.xticks(np.arange(len(barvalue)),['SA','RHC','GA','GD'])\n",
    "plt.show()"
   ]
  }
 ],
 "metadata": {
  "kernelspec": {
   "display_name": "Python 3",
   "language": "python",
   "name": "python3"
  },
  "language_info": {
   "codemirror_mode": {
    "name": "ipython",
    "version": 3
   },
   "file_extension": ".py",
   "mimetype": "text/x-python",
   "name": "python",
   "nbconvert_exporter": "python",
   "pygments_lexer": "ipython3",
   "version": "3.9.12"
  },
  "orig_nbformat": 4,
  "vscode": {
   "interpreter": {
    "hash": "31f2aee4e71d21fbe5cf8b01ff0e069b9275f58929596ceb00d14d90e3e16cd6"
   }
  }
 },
 "nbformat": 4,
 "nbformat_minor": 2
}
